{
 "cells": [
  {
   "cell_type": "markdown",
   "metadata": {},
   "source": [
    "## Extreme Learning Machine (ELM)\n",
    "#### Khoirunnisa Alfadistya - FGA Big Data Analytics Class B"
   ]
  },
  {
   "cell_type": "markdown",
   "metadata": {},
   "source": [
    "#### Deskripsi Project : \n",
    "Penerapan ELM pada data Harga Barang X. Tujuan untuk membandingkan data aktual dan hasil prediksi dengan training testing menggunakan algoritma ELM pada data Harga Barang X"
   ]
  },
  {
   "cell_type": "markdown",
   "metadata": {},
   "source": [
    "### Import Library"
   ]
  },
  {
   "cell_type": "code",
   "execution_count": 88,
   "metadata": {},
   "outputs": [],
   "source": [
    "import pandas as pd\n",
    "import numpy as np\n",
    "import requests\n",
    "import matplotlib.pyplot as plt\n",
    "import urllib.request"
   ]
  },
  {
   "cell_type": "markdown",
   "metadata": {},
   "source": [
    "### Import Dataset"
   ]
  },
  {
   "cell_type": "code",
   "execution_count": 89,
   "metadata": {},
   "outputs": [
    {
     "data": {
      "text/html": [
       "<div>\n",
       "<style scoped>\n",
       "    .dataframe tbody tr th:only-of-type {\n",
       "        vertical-align: middle;\n",
       "    }\n",
       "\n",
       "    .dataframe tbody tr th {\n",
       "        vertical-align: top;\n",
       "    }\n",
       "\n",
       "    .dataframe thead th {\n",
       "        text-align: right;\n",
       "    }\n",
       "</style>\n",
       "<table border=\"1\" class=\"dataframe\">\n",
       "  <thead>\n",
       "    <tr style=\"text-align: right;\">\n",
       "      <th></th>\n",
       "      <th>Tanggal</th>\n",
       "      <th>Harga</th>\n",
       "    </tr>\n",
       "  </thead>\n",
       "  <tbody>\n",
       "    <tr>\n",
       "      <th>0</th>\n",
       "      <td>22 Maret 2017</td>\n",
       "      <td>98000</td>\n",
       "    </tr>\n",
       "    <tr>\n",
       "      <th>1</th>\n",
       "      <td>23 Maret 2017</td>\n",
       "      <td>74000</td>\n",
       "    </tr>\n",
       "    <tr>\n",
       "      <th>2</th>\n",
       "      <td>24 Maret 2017</td>\n",
       "      <td>74000</td>\n",
       "    </tr>\n",
       "    <tr>\n",
       "      <th>3</th>\n",
       "      <td>25 Maret 2017</td>\n",
       "      <td>74000</td>\n",
       "    </tr>\n",
       "    <tr>\n",
       "      <th>4</th>\n",
       "      <td>26 Maret 2017</td>\n",
       "      <td>74000</td>\n",
       "    </tr>\n",
       "  </tbody>\n",
       "</table>\n",
       "</div>"
      ],
      "text/plain": [
       "         Tanggal  Harga\n",
       "0  22 Maret 2017  98000\n",
       "1  23 Maret 2017  74000\n",
       "2  24 Maret 2017  74000\n",
       "3  25 Maret 2017  74000\n",
       "4  26 Maret 2017  74000"
      ]
     },
     "execution_count": 89,
     "metadata": {},
     "output_type": "execute_result"
    }
   ],
   "source": [
    "#download dataset di https://drive.google.com/uc?authuser=0&id=1sWKK5yU8h07KZ8wN6oW2TJUpNg2luQ6I&export=download\n",
    "#save dalam file data.csv\n",
    "#load dalam variabel dataset_\n",
    "csv_url = 'https://drive.google.com/uc?authuser=0&id=1sWKK5yU8h07KZ8wN6oW2TJUpNg2luQ6I&export=download'\n",
    "urllib.request.urlretrieve(csv_url, 'data.csv')\n",
    "data = pd.read_csv('data1.csv')\n",
    "dataset_ = pd.read_csv('data.csv',sep=';', header=None, names = ['Tanggal', 'Harga'])\n",
    "dataset_.head()"
   ]
  },
  {
   "cell_type": "markdown",
   "metadata": {},
   "source": [
    "### Input Variabel"
   ]
  },
  {
   "cell_type": "code",
   "execution_count": 91,
   "metadata": {},
   "outputs": [
    {
     "name": "stdout",
     "output_type": "stream",
     "text": [
      "Persentase Data Training (%) : 90\n",
      "Banyak Fitur = 4\n",
      "Banyak Hidden Neuron = 5\n"
     ]
    }
   ],
   "source": [
    "#Inputan variabel yg diperlukan untuk training ELM\n",
    "persentase_data_training = int(input('Persentase Data Training (%) : '))\n",
    "banyak_fitur = int(input('Banyak Fitur = '))\n",
    "banyak_hidden_neuron = int(input('Banyak Hidden Neuron = '))\n",
    "\n",
    "#NOTE\n",
    "#persentase data training digunakan untuk membagi data yang akan digunakan sebagai data training\n",
    "#sisanya digunakan sebagai data testing\n",
    "#banyak fitur digunakan untuk membagi data awal menjadi k fitur"
   ]
  },
  {
   "cell_type": "code",
   "execution_count": 80,
   "metadata": {},
   "outputs": [],
   "source": [
    "dataset = pd.DataFrame(dataset_asli['Harga'])\n",
    "minimum = int(dataset.min()-10000)\n",
    "maksimum = int(dataset.max()+10000)\n",
    "new_banyak_fitur = banyak_fitur + 1\n",
    "hasil_fitur = []\n",
    "for i in range((len(dataset)-new_banyak_fitur)+1):\n",
    "\tkolom = []\n",
    "\tj = i\n",
    "\twhile j < (i+new_banyak_fitur):\n",
    "\t\tkolom.append(dataset.values[j][0])\n",
    "\t\tj += 1\n",
    "\thasil_fitur.append(kolom)\n",
    "hasil_fitur = np.array(hasil_fitur)\n",
    "data_normalisasi = (hasil_fitur - minimum)/(maksimum - minimum)\n",
    "\n",
    "data_training = data_normalisasi[:int(persentase_data_training*len(data_normalisasi)/100)]\n",
    "data_testing = data_normalisasi[int(persentase_data_training*len(data_normalisasi)/100):]"
   ]
  },
  {
   "cell_type": "code",
   "execution_count": 81,
   "metadata": {},
   "outputs": [],
   "source": [
    "#Training ELM\n",
    "bobot = np.random.rand(banyak_hidden_neuron, banyak_fitur)\n",
    "bias = np.random.rand(banyak_hidden_neuron)\n",
    "h = 1/(1 + np.exp(-(np.dot(data_training[:, :banyak_fitur], np.transpose(bobot)) + bias)))\n",
    "h_plus = np.dot(np.linalg.inv(np.dot(np.transpose(h),h)),np.transpose(h))\n",
    "output_weight = np.dot(h_plus, data_training[:, banyak_fitur])\n",
    "\n"
   ]
  },
  {
   "cell_type": "code",
   "execution_count": 82,
   "metadata": {},
   "outputs": [
    {
     "data": {
      "text/plain": [
       "array([46400, 44800, 44600, 45400, 45400, 39600, 39600, 40400, 40400,\n",
       "       39200, 39200, 38800, 37600, 39200, 35800, 36000, 38000, 37600,\n",
       "       39200, 37200, 36200, 35600, 34600, 34200, 35000, 34600, 31800,\n",
       "       31800, 32000, 30200, 28400, 28800, 28800, 28200, 31000, 31400,\n",
       "       30000, 29600, 28800, 29600, 27800], dtype=int64)"
      ]
     },
     "execution_count": 82,
     "metadata": {},
     "output_type": "execute_result"
    }
   ],
   "source": [
    "#Testing ELM\n",
    "h = 1/(1 + np.exp(-(np.dot(data_testing[:, :banyak_fitur], np.transpose(bobot)) + bias)))\n",
    "predict = np.dot(h, output_weight)\n",
    "predict = predict * (maksimum - minimum) + minimum\n",
    "\n",
    "#MAPE\n",
    "aktual = np.array(hasil_fitur[int(persentase_data_training*len(data_normalisasi)/100):, banyak_fitur])\n",
    "mape = np.sum(np.abs(((aktual - predict)/aktual)*100))/len(predict)\n",
    "aktual"
   ]
  },
  {
   "cell_type": "code",
   "execution_count": 85,
   "metadata": {},
   "outputs": [
    {
     "data": {
      "text/plain": [
       "<matplotlib.legend.Legend at 0x1e78c36ceb8>"
      ]
     },
     "execution_count": 85,
     "metadata": {},
     "output_type": "execute_result"
    },
    {
     "data": {
      "image/png": "[encoded data removed]",
      "text/plain": [
       "<Figure size 432x288 with 1 Axes>"
      ]
     },
     "metadata": {},
     "output_type": "display_data"
    }
   ],
   "source": [
    "aktual = pd.DataFrame(aktual)\n",
    "prediksi = pd.DataFrame(predict)\n",
    "plt.plot(aktual, label='aktual',color='black')\n",
    "plt.plot(prediksi, label='prediksi',color='red')\n",
    "plt.title('Plot Aktual vs Prediksi Harga')\n",
    "plt.legend()"
   ]
  },
  {
   "cell_type": "code",
   "execution_count": 87,
   "metadata": {},
   "outputs": [
    {
     "name": "stdout",
     "output_type": "stream",
     "text": [
      "Nilai MAPE :  5.955863617870487\n"
     ]
    }
   ],
   "source": [
    "print('Nilai MAPE : ',mape)"
   ]
  },
  {
   "cell_type": "code",
   "execution_count": null,
   "metadata": {},
   "outputs": [],
   "source": []
  }
 ],
 "metadata": {
  "kernelspec": {
   "display_name": "Python 3",
   "language": "python",
   "name": "python3"
  },
  "language_info": {
   "codemirror_mode": {
    "name": "ipython",
    "version": 3
   },
   "file_extension": ".py",
   "mimetype": "text/x-python",
   "name": "python",
   "nbconvert_exporter": "python",
   "pygments_lexer": "ipython3",
   "version": "3.6.5"
  }
 },
 "nbformat": 4,
 "nbformat_minor": 2
}
